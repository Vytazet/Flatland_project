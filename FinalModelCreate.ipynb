{
  "nbformat": 4,
  "nbformat_minor": 0,
  "metadata": {
    "colab": {
      "provenance": []
    },
    "kernelspec": {
      "name": "python3",
      "display_name": "Python 3"
    },
    "language_info": {
      "name": "python"
    },
    "accelerator": "GPU",
    "gpuClass": "standard"
  },
  "cells": [
    {
      "cell_type": "code",
      "source": [
        "import numpy as np\n",
        "from tensorflow import keras\n",
        "from keras.models import Model\n",
        "from keras.layers import Conv2D, Dense, BatchNormalization\n",
        "from keras.layers import Flatten, MaxPooling2D, Activation\n",
        "from keras.layers import InputLayer, Input, SpatialDropout2D \n",
        "from keras.layers import RandomFlip, RandomZoom, RandomRotation\n",
        "from sklearn.model_selection import train_test_split"
      ],
      "metadata": {
        "id": "9IdCG2b3yWxL"
      },
      "execution_count": 40,
      "outputs": []
    },
    {
      "cell_type": "code",
      "execution_count": 41,
      "metadata": {
        "id": "xEYl9OHoyTaV"
      },
      "outputs": [],
      "source": [
        "data = np.load('flatland_train.npz')\n",
        "X = data['X']\n",
        "y = data['y'].astype(int)\n",
        "\n",
        "y[y != 0] -= 2    # Correct labels so that triangle is mapped to class 1\n",
        "X = X / 255.      # Scale down to range [0, 1]"
      ]
    },
    {
      "cell_type": "code",
      "source": [
        "y_true = y.copy()\n",
        "input = np.array([19, 399, 436, 473, 505, 563, 597, 619, 679, 696, 756, 760, \n",
        "                  1238, 1403, 1409, 1413, 1442, 1467, 1474, 1598, 1748, 1854,\n",
        "                  1975, 2105, 2148, 2183, 2225, 2226, 2281, 2345, 2419, 2601,\n",
        "                  2676, 2721, 2748, 2752, 2813, 2978, 2980, 3029, 3092, 3110,\n",
        "                  3143, 3249, 3276, 3357, 3431, 3441, 3798, 3802, 3809, 3853, \n",
        "                  3894, 3896, 3988, 4006, 4025, 4037, 4063, 4068, 4094, 4115,\n",
        "                  4168, 4243, 4273, 4294, 4402, 4452, 4484, 4488, 4645, 4659,\n",
        "                  4759, 4804, 4816, 4907, 4980, 5034, 5045, 5056, 5061, 5083,\n",
        "                  5130, 5333, 5375, 5423, 5515, 5571, 5846, 5859, 5887, 5909,\n",
        "                  5965, 5996, 6006, 6045, 6068, 6131, 6155, 6162, 6222, 6317,\n",
        "                  6376, 6384, 6452, 6517, 6559, 6653, 6670, 6674, 6679, 6776,\n",
        "                  6942, 7008, 7093, 7107, 7129, 7220, 7338, 7490, 7557, 7575,\n",
        "                  7601, 7655, 7806, 7908, 7956, 7983, 8068, 8189, 8360, 8585,\n",
        "                  8613, 8631, 8635, 8724, 8919, 9089, 9197, 9344, 9495, 9566,\n",
        "                  9591, 9664, 9687, 9704, 9718, 9839])\n",
        "output = np.array([4, 4, 4, 5, 5, 4, 3, 4, 6, 0, 5, 0, 3, 3, 6, 4, 3, 6, 3, 0, \n",
        "                   4, 5, 4, 3, 4, 5, 5, 6, 0, 3, 5, 5, 3, 6, 5, 6, 6, 3, 5, 0, \n",
        "                   6, 0, 5, 6, 4, 4, 3, 6, 3, 6, 4, 0, 5, 5, 3, 4, 5, 6, 3, 4,\n",
        "                   5, 3, 0, 3, 6, 6, 0, 5, 3, 6, 5, 3, 5, 4, 3, 5, 3, 5, 3, 3,\n",
        "                   0, 3, 3, 6, 5, 6, 4, 3, 5, 5, 0, 3, 0, 5, 6, 5, 5, 4, 0, 6, \n",
        "                   3, 4, 4, 4, 0, 4, 5, 6, 3, 0, 3, 5, 3, 0, 0, 3, 4, 3, 0, 0,\n",
        "                   6, 6, 0, 0, 3, 6, 3, 0, 4, 4, 4, 6, 3, 6, 0, 3, 6, 5, 0, 5,\n",
        "                   0, 3, 4, 3, 3, 4, 0, 6])\n",
        "output[output != 0] -= 2\n",
        "\n",
        "y_true[input] = output"
      ],
      "metadata": {
        "id": "gK-xPn0W9C_r"
      },
      "execution_count": 42,
      "outputs": []
    },
    {
      "cell_type": "code",
      "source": [
        "inp = Input(shape=(50, 50, 1))\n",
        "\n",
        "# Random augmentation layers\n",
        "proc = RandomRotation(factor=0.5, fill_mode='constant')(inp)\n",
        "proc = RandomZoom((-0.3, 0.3), (-0.3, 0.3), fill_mode='constant')(proc)\n",
        "\n",
        "# Convolutional layers\n",
        "out = Conv2D(64, kernel_size=(7, 7), strides=2, activation='relu')(proc)\n",
        "out = BatchNormalization()(out)\n",
        "out = SpatialDropout2D(0.2)(out)\n",
        "\n",
        "out = Conv2D(128, kernel_size=(5, 5), activation='relu')(out)\n",
        "out = BatchNormalization()(out)\n",
        "out = SpatialDropout2D(0.2)(out)\n",
        "\n",
        "out = MaxPooling2D(pool_size=(3, 3))(out)\n",
        "\n",
        "out = Conv2D(64, kernel_size=(3, 3), activation='relu')(out)\n",
        "out = BatchNormalization()(out)\n",
        "out = SpatialDropout2D(0.1)(out)\n",
        "\n",
        "out = Conv2D(32, kernel_size=(3, 3), activation='relu')(out)\n",
        "out = BatchNormalization()(out)\n",
        "\n",
        "# Dense layers\n",
        "out = Flatten()(out)\n",
        "out = Dense(512, activation=\"relu\")(out)\n",
        "out = keras.layers.Dropout(0.5)(out)\n",
        "out = Dense(5, activation=\"softmax\")(out)\n",
        "\n",
        "model = Model(inputs=inp, outputs=out)\n",
        "test_model = Model(inputs=proc, outputs=out)\n",
        "model.compile(loss=\"sparse_categorical_crossentropy\",\n",
        "              optimizer=keras.optimizers.Adam(learning_rate=3e-4),\n",
        "              metrics=[\"accuracy\"])\n",
        "test_model.compile(loss=\"sparse_categorical_crossentropy\",\n",
        "              optimizer=keras.optimizers.Adam(learning_rate=3e-4),\n",
        "              metrics=[\"accuracy\"])"
      ],
      "metadata": {
        "id": "v6R2V2KtyjUQ"
      },
      "execution_count": 45,
      "outputs": []
    },
    {
      "cell_type": "code",
      "source": [
        "model.fit(X, y_true, batch_size=16, epochs=20)"
      ],
      "metadata": {
        "colab": {
          "base_uri": "https://localhost:8080/"
        },
        "id": "p5rYfi6Gy7B0",
        "outputId": "2c595cda-9efa-42a9-cea4-aed8c3425450"
      },
      "execution_count": 47,
      "outputs": [
        {
          "output_type": "stream",
          "name": "stdout",
          "text": [
            "Epoch 1/20\n",
            "625/625 [==============================] - 3s 5ms/step - loss: 0.0412 - accuracy: 0.9861\n",
            "Epoch 2/20\n",
            "625/625 [==============================] - 3s 5ms/step - loss: 0.0319 - accuracy: 0.9897\n",
            "Epoch 3/20\n",
            "625/625 [==============================] - 3s 5ms/step - loss: 0.0439 - accuracy: 0.9838\n",
            "Epoch 4/20\n",
            "625/625 [==============================] - 3s 5ms/step - loss: 0.0313 - accuracy: 0.9896\n",
            "Epoch 5/20\n",
            "625/625 [==============================] - 3s 5ms/step - loss: 0.0335 - accuracy: 0.9892\n",
            "Epoch 6/20\n",
            "625/625 [==============================] - 3s 5ms/step - loss: 0.0390 - accuracy: 0.9871\n",
            "Epoch 7/20\n",
            "625/625 [==============================] - 3s 5ms/step - loss: 0.0319 - accuracy: 0.9886\n",
            "Epoch 8/20\n",
            "625/625 [==============================] - 3s 5ms/step - loss: 0.0335 - accuracy: 0.9875\n",
            "Epoch 9/20\n",
            "625/625 [==============================] - 3s 5ms/step - loss: 0.0311 - accuracy: 0.9889\n",
            "Epoch 10/20\n",
            "625/625 [==============================] - 3s 5ms/step - loss: 0.0368 - accuracy: 0.9879\n",
            "Epoch 11/20\n",
            "625/625 [==============================] - 3s 5ms/step - loss: 0.0381 - accuracy: 0.9876\n",
            "Epoch 12/20\n",
            "625/625 [==============================] - 3s 5ms/step - loss: 0.0327 - accuracy: 0.9881\n",
            "Epoch 13/20\n",
            "625/625 [==============================] - 3s 5ms/step - loss: 0.0303 - accuracy: 0.9896\n",
            "Epoch 14/20\n",
            "625/625 [==============================] - 3s 5ms/step - loss: 0.0309 - accuracy: 0.9899\n",
            "Epoch 15/20\n",
            "625/625 [==============================] - 3s 5ms/step - loss: 0.0302 - accuracy: 0.9896\n",
            "Epoch 16/20\n",
            "625/625 [==============================] - 3s 5ms/step - loss: 0.0345 - accuracy: 0.9885\n",
            "Epoch 17/20\n",
            "625/625 [==============================] - 3s 5ms/step - loss: 0.0280 - accuracy: 0.9902\n",
            "Epoch 18/20\n",
            "625/625 [==============================] - 3s 5ms/step - loss: 0.0352 - accuracy: 0.9893\n",
            "Epoch 19/20\n",
            "625/625 [==============================] - 3s 5ms/step - loss: 0.0282 - accuracy: 0.9896\n",
            "Epoch 20/20\n",
            "625/625 [==============================] - 3s 5ms/step - loss: 0.0241 - accuracy: 0.9920\n"
          ]
        },
        {
          "output_type": "execute_result",
          "data": {
            "text/plain": [
              "<keras.callbacks.History at 0x7fa39ba47090>"
            ]
          },
          "metadata": {},
          "execution_count": 47
        }
      ]
    },
    {
      "cell_type": "code",
      "source": [
        "# Have to use a model without the augmentation layers, because the evaluation \n",
        "# site has older version of TensorFlow\n",
        "test_model.save('good_model.h5')"
      ],
      "metadata": {
        "id": "c1AT5dGL1viV"
      },
      "execution_count": 48,
      "outputs": []
    }
  ]
}